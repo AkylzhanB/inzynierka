{
 "cells": [
  {
   "cell_type": "code",
   "execution_count": 1,
   "metadata": {},
   "outputs": [],
   "source": [
    "import jraph\n",
    "import torch\n",
    "import numpy as np\n",
    "import networkx as nx\n",
    "import community as community_louvain\n",
    "from torch_geometric.data import InMemoryDataset, Data\n",
    "from torch_geometric.utils import to_networkx\n",
    "from networkx import karate_club_graph, to_numpy_matrix\n",
    "from absl import app\n",
    "import jax\n",
    "import jax.numpy as jnp\n",
    "import haiku as hk\n",
    "from absl import app\n",
    "import logging\n",
    "from jax.interpreters.xla import DeviceArray\n",
    "from jax.experimental import optimizers"
   ]
  },
  {
   "cell_type": "code",
   "execution_count": 2,
   "metadata": {},
   "outputs": [
    {
     "data": {
      "text/plain": [
       "Data(adjency=[[0. 1. 1. ... 1. 0. 0.]\n",
       " [1. 0. 1. ... 0. 0. 0.]\n",
       " [1. 1. 0. ... 0. 1. 0.]\n",
       " ...\n",
       " [1. 0. 0. ... 0. 1. 1.]\n",
       " [0. 0. 1. ... 1. 0. 1.]\n",
       " [0. 0. 0. ... 1. 1. 0.]], edge_index=[2, 156], train_mask=[34], x=[34, 34], y=[34])"
      ]
     },
     "execution_count": 2,
     "metadata": {},
     "output_type": "execute_result"
    }
   ],
   "source": [
    "class KarateClub(InMemoryDataset):\n",
    "\n",
    "    def __init__(self, transform=None):\n",
    "        super(KarateClub, self).__init__('.', transform, None, None)\n",
    "\n",
    "        G = nx.karate_club_graph()\n",
    "\n",
    "        x = torch.eye(G.number_of_nodes(), dtype=torch.float)\n",
    "        order = sorted(list(G.nodes()))\n",
    "        adjency = to_numpy_matrix(G,nodelist=order)\n",
    "        \n",
    "        adj = nx.to_scipy_sparse_matrix(G).tocoo()\n",
    "        row = torch.from_numpy(adj.row.astype(np.int64)).to(torch.long)\n",
    "        col = torch.from_numpy(adj.col.astype(np.int64)).to(torch.long)\n",
    "        edge_index = torch.stack([row, col], dim=0)\n",
    "\n",
    "        # Compute communities.\n",
    "        partition = community_louvain.best_partition(G)\n",
    "        y = torch.tensor([partition[i] for i in range(G.number_of_nodes())])\n",
    "        senders = edge_index[0]\n",
    "        receivers = edge_index[1]\n",
    "        # Select a single training node for each community\n",
    "        # (we just use the first one).\n",
    "        train_mask = torch.zeros(y.size(0), dtype=torch.bool)\n",
    "        num_nodes = G.number_of_nodes()\n",
    "        for i in range(int(y.max()) + 1):\n",
    "            train_mask[(y == i).nonzero(as_tuple=False)[0]] = True\n",
    "\n",
    "        data = Data(x=x, edge_index=edge_index, y=y, train_mask=train_mask,\n",
    "                    adjency = adjency)\n",
    "\n",
    "        self.data, self.slices = self.collate([data])\n",
    "\n",
    "    def __repr__(self):\n",
    "        return '{}()'.format(self.__class__.__name__)\n",
    "dataset = KarateClub()\n",
    "dataset = dataset[0]\n",
    "dataset"
   ]
  },
  {
   "cell_type": "code",
   "execution_count": 3,
   "metadata": {},
   "outputs": [],
   "source": [
    "def get_zacharys_karate_club() -> jraph.GraphsTuple:\n",
    "    \n",
    "    social_graph = dataset.edge_index.t()\n",
    "    n_club_members = dataset.num_nodes\n",
    "    return jraph.GraphsTuple(\n",
    "    n_node=jnp.asarray([n_club_members]),\n",
    "    n_edge=jnp.asarray([len(social_graph)]),\n",
    "      # One-hot encoding for nodes.\n",
    "    nodes=jnp.eye(n_club_members),\n",
    "      # No edge features.\n",
    "    edges=None,\n",
    "    globals=None,\n",
    "    senders=jnp.asarray([edge[0] for edge in social_graph]),\n",
    "    receivers=jnp.asarray([edge[1] for edge in social_graph]))"
   ]
  },
  {
   "cell_type": "code",
   "execution_count": 4,
   "metadata": {},
   "outputs": [
    {
     "name": "stderr",
     "output_type": "stream",
     "text": [
      "WARNING:absl:No GPU/TPU found, falling back to CPU. (Set TF_CPP_MIN_LOG_LEVEL=0 and rerun for more info.)\n"
     ]
    },
    {
     "data": {
      "text/plain": [
       "GraphsTuple(nodes=DeviceArray([[1., 0., 0., ..., 0., 0., 0.],\n",
       "             [0., 1., 0., ..., 0., 0., 0.],\n",
       "             [0., 0., 1., ..., 0., 0., 0.],\n",
       "             ...,\n",
       "             [0., 0., 0., ..., 1., 0., 0.],\n",
       "             [0., 0., 0., ..., 0., 1., 0.],\n",
       "             [0., 0., 0., ..., 0., 0., 1.]], dtype=float32), edges=None, receivers=DeviceArray([ 1,  2,  3,  4,  5,  6,  7,  8, 10, 11, 12, 13, 17, 19, 21,\n",
       "             31,  0,  2,  3,  7, 13, 17, 19, 21, 30,  0,  1,  3,  7,  8,\n",
       "              9, 13, 27, 28, 32,  0,  1,  2,  7, 12, 13,  0,  6, 10,  0,\n",
       "              6, 10, 16,  0,  4,  5, 16,  0,  1,  2,  3,  0,  2, 30, 32,\n",
       "             33,  2, 33,  0,  4,  5,  0,  0,  3,  0,  1,  2,  3, 33, 32,\n",
       "             33, 32, 33,  5,  6,  0,  1, 32, 33,  0,  1, 33, 32, 33,  0,\n",
       "              1, 32, 33, 25, 27, 29, 32, 33, 25, 27, 31, 23, 24, 31, 29,\n",
       "             33,  2, 23, 24, 33,  2, 31, 33, 23, 26, 32, 33,  1,  8, 32,\n",
       "             33,  0, 24, 25, 28, 32, 33,  2,  8, 14, 15, 18, 20, 22, 23,\n",
       "             29, 30, 31, 33,  8,  9, 13, 14, 15, 18, 19, 20, 22, 23, 26,\n",
       "             27, 28, 29, 30, 31, 32], dtype=int32), senders=DeviceArray([ 0,  0,  0,  0,  0,  0,  0,  0,  0,  0,  0,  0,  0,  0,  0,\n",
       "              0,  1,  1,  1,  1,  1,  1,  1,  1,  1,  2,  2,  2,  2,  2,\n",
       "              2,  2,  2,  2,  2,  3,  3,  3,  3,  3,  3,  4,  4,  4,  5,\n",
       "              5,  5,  5,  6,  6,  6,  6,  7,  7,  7,  7,  8,  8,  8,  8,\n",
       "              8,  9,  9, 10, 10, 10, 11, 12, 12, 13, 13, 13, 13, 13, 14,\n",
       "             14, 15, 15, 16, 16, 17, 17, 18, 18, 19, 19, 19, 20, 20, 21,\n",
       "             21, 22, 22, 23, 23, 23, 23, 23, 24, 24, 24, 25, 25, 25, 26,\n",
       "             26, 27, 27, 27, 27, 28, 28, 28, 29, 29, 29, 29, 30, 30, 30,\n",
       "             30, 31, 31, 31, 31, 31, 31, 32, 32, 32, 32, 32, 32, 32, 32,\n",
       "             32, 32, 32, 32, 33, 33, 33, 33, 33, 33, 33, 33, 33, 33, 33,\n",
       "             33, 33, 33, 33, 33, 33], dtype=int32), globals=None, n_node=DeviceArray([34], dtype=int32), n_edge=DeviceArray([156], dtype=int32))"
      ]
     },
     "execution_count": 4,
     "metadata": {},
     "output_type": "execute_result"
    }
   ],
   "source": [
    "get_zacharys_karate_club()"
   ]
  },
  {
   "cell_type": "code",
   "execution_count": 5,
   "metadata": {},
   "outputs": [],
   "source": [
    "def get_ground_truth_assignments_for_zacharys_karate_club() -> jnp.ndarray:\n",
    "    \n",
    "    return jnp.array([np.array(dataset.y)])"
   ]
  },
  {
   "cell_type": "code",
   "execution_count": 6,
   "metadata": {},
   "outputs": [
    {
     "data": {
      "text/plain": [
       "DeviceArray([[0, 0, 0, 0, 1, 1, 1, 0, 2, 0, 1, 0, 0, 0, 2, 2, 1, 0, 2, 0,\n",
       "              2, 0, 2, 2, 3, 3, 2, 2, 3, 2, 2, 3, 2, 2]], dtype=int32)"
      ]
     },
     "execution_count": 6,
     "metadata": {},
     "output_type": "execute_result"
    }
   ],
   "source": [
    "get_ground_truth_assignments_for_zacharys_karate_club()"
   ]
  },
  {
   "cell_type": "code",
   "execution_count": 7,
   "metadata": {},
   "outputs": [],
   "source": [
    "def network_definition(graph: jraph.GraphsTuple) -> jraph.ArrayTree:\n",
    "    \n",
    "\n",
    "    gn = jraph.GraphConvolution(\n",
    "      update_node_fn=lambda n: jax.nn.relu(hk.Linear(5)(n)),\n",
    "      add_self_edges=True)\n",
    "    graph = gn(graph)\n",
    "\n",
    "    gn = jraph.GraphConvolution(\n",
    "      update_node_fn=hk.Linear(4))\n",
    "    graph = gn(graph)\n",
    "    return graph.nodes"
   ]
  },
  {
   "cell_type": "code",
   "execution_count": 8,
   "metadata": {},
   "outputs": [],
   "source": [
    "network = hk.without_apply_rng(hk.transform(network_definition))\n",
    "zacharys_karate_club = get_zacharys_karate_club()\n",
    "labels = get_ground_truth_assignments_for_zacharys_karate_club()\n",
    "params = network.init(jax.random.PRNGKey(42), zacharys_karate_club)"
   ]
  },
  {
   "cell_type": "code",
   "execution_count": 9,
   "metadata": {},
   "outputs": [],
   "source": [
    "def prediction_loss(params):\n",
    "    \n",
    "    decoded_nodes = network.apply(params, zacharys_karate_club)\n",
    "    # We interpret the decoded nodes as a pair of logits for each node.\n",
    "    log_prob = jax.nn.log_softmax(decoded_nodes)\n",
    "    # The only two assignments we know a-priori are those of Mr. Hi (Node 0)\n",
    "    # and John A (Node 33).\n",
    "    return -(log_prob[0, 0] + log_prob[33, 1])"
   ]
  },
  {
   "cell_type": "code",
   "execution_count": 10,
   "metadata": {},
   "outputs": [],
   "source": [
    "opt_init, opt_update, get_params = optimizers.adam(0.001)\n",
    "opt_state = opt_init(params)\n",
    "def step(step, opt_state):\n",
    "    \n",
    "    value, grads = jax.value_and_grad(prediction_loss)(get_params(opt_state))\n",
    "    opt_state = opt_update(step, grads, opt_state)\n",
    "    return value, opt_state"
   ]
  },
  {
   "cell_type": "code",
   "execution_count": 11,
   "metadata": {},
   "outputs": [],
   "source": [
    "def accuracy(params):\n",
    "    decoded_nodes = network.apply(params, zacharys_karate_club)\n",
    "    return jnp.mean(jnp.argmax(decoded_nodes, axis=1) == labels)"
   ]
  },
  {
   "cell_type": "code",
   "execution_count": 12,
   "metadata": {},
   "outputs": [],
   "source": [
    "for shag in range(500):\n",
    "    \n",
    "    \n",
    "    val, opt_state = step(shag, opt_state)"
   ]
  },
  {
   "cell_type": "code",
   "execution_count": 13,
   "metadata": {},
   "outputs": [
    {
     "data": {
      "text/plain": [
       "DeviceArray(0.16148417, dtype=float32)"
      ]
     },
     "execution_count": 13,
     "metadata": {},
     "output_type": "execute_result"
    }
   ],
   "source": [
    "val\n"
   ]
  },
  {
   "cell_type": "code",
   "execution_count": null,
   "metadata": {},
   "outputs": [],
   "source": []
  }
 ],
 "metadata": {
  "kernelspec": {
   "display_name": "Python 3",
   "language": "python",
   "name": "python3"
  },
  "language_info": {
   "codemirror_mode": {
    "name": "ipython",
    "version": 3
   },
   "file_extension": ".py",
   "mimetype": "text/x-python",
   "name": "python",
   "nbconvert_exporter": "python",
   "pygments_lexer": "ipython3",
   "version": "3.8.5"
  }
 },
 "nbformat": 4,
 "nbformat_minor": 4
}
